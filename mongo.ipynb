{
 "cells": [
  {
   "cell_type": "code",
   "execution_count": 1,
   "id": "03c508d8",
   "metadata": {},
   "outputs": [
    {
     "name": "stdout",
     "output_type": "stream",
     "text": [
      "/home/tbal/lincode/backend_development/livis-be/livis\n"
     ]
    }
   ],
   "source": [
    "from common.utils import MongoHelper\n",
    "from livis.settings import *\n",
    "from bson import ObjectId\n",
    "from plan.utils import get_todays_planned_production_util\n",
    "from common.utils import GetLabelData\n",
    "import json"
   ]
  },
  {
   "cell_type": "code",
   "execution_count": 2,
   "id": "e26c29ae",
   "metadata": {},
   "outputs": [],
   "source": [
    "# CONFIGURATION_COLLECTION = \"configurations\"\n",
    "\n",
    "# conf_collection = MongoHelper.getcollection(CONFIGURATION_COLLECTION)"
   ]
  },
  {
   "cell_type": "code",
   "execution_count": 3,
   "id": "078cbd7e",
   "metadata": {},
   "outputs": [
    {
     "name": "stderr",
     "output_type": "stream",
     "text": [
      "/tmp/ipykernel_145128/53435431.py:5: DeprecationWarning: insert is deprecated. Use insert_one or insert_many instead.\n",
      "  x = mycol.insert(data)\n"
     ]
    }
   ],
   "source": [
    "#Insert Collections from json\n",
    "f = open('/home/tbal/lincode/backend_development/livis-be/DB/config.json')\n",
    "data = json.load(f)\n",
    "mycol = MongoHelper().getCollection(\"KN\")\n",
    "x = mycol.insert(data)\n"
   ]
  },
  {
   "cell_type": "code",
   "execution_count": null,
   "id": "207e74d1",
   "metadata": {},
   "outputs": [],
   "source": [
    "x"
   ]
  },
  {
   "cell_type": "code",
   "execution_count": null,
   "id": "9bb40f2f",
   "metadata": {},
   "outputs": [],
   "source": [
    "#Get Configuration collection list\n",
    "mp = MongoHelper().getCollection(CONFIGURATION_COLLECTION)\n",
    "conf_list = []\n",
    "cc = mp.find({\"in_use\":True})\n",
    "for c in cc :\n",
    "    conf_list.append(c[\"configuration_number\"])\n",
    "conf_list"
   ]
  },
  {
   "cell_type": "code",
   "execution_count": null,
   "id": "d47b8548",
   "metadata": {},
   "outputs": [],
   "source": [
    "#Get configuration\n",
    "configuration_number =\"config_1\"\n",
    "\n",
    "mp = MongoHelper().getCollection(CONFIGURATION_COLLECTION)\n",
    "cc = mp.find({\"configuration_number\":configuration_number})\n",
    "for c in cc :\n",
    "    resp = c\n",
    "resp"
   ]
  },
  {
   "cell_type": "code",
   "execution_count": null,
   "id": "86d492ee",
   "metadata": {},
   "outputs": [],
   "source": [
    "#Get aircraft numbers\n",
    "mp = MongoHelper().getCollection(AIRCRAFT_NUMBER_COLLECTION)\n",
    "ac_num_list = []\n",
    "cc = mp.find({\"status\":\"not_started\"})#inprogress,completed\n",
    "for c in cc :\n",
    "#     print(c)\n",
    "    ac_num_list.append(c[\"aircraft_number\"])\n",
    "ac_num_list"
   ]
  },
  {
   "cell_type": "code",
   "execution_count": null,
   "id": "e33a73ef",
   "metadata": {},
   "outputs": [],
   "source": [
    "def get_configuration(configuration_number):\n",
    "    resp = []\n",
    "    mp = MongoHelper().getCollection(CONFIGURATION_COLLECTION)\n",
    "    cc = mp.find({\"configuration_number\":configuration_number})\n",
    "    for c in cc :\n",
    "        resp = c\n",
    "        # print(c)\n",
    "    return resp\n",
    "\n",
    "def get_aircraft(aircraft_number):\n",
    "    mp = MongoHelper().getCollection(AIRCRAFT_NUMBER_COLLECTION)\n",
    "    ac_num_list = []\n",
    "    cc = mp.find({\"aircraft_number\":aircraft_number})#inprogress,completed\n",
    "    for c in cc :\n",
    "    #     print(c)\n",
    "        aircraft_number_collection = c\n",
    "    return ac_num_list\n",
    "\n",
    "def add_new_aircraft_inspection_util(data = []):\n",
    "    # print(\"data\",data)\n",
    "    aircraft_number = \"AFC001\"#data.get(\"aircraft_number\")\n",
    "    configuration_number = \"config_1\"#data.get(\"configuration_number\")\n",
    "    # print(aircraft_number,configuration_number)\n",
    "    configuration = get_configuration(configuration_number)\n",
    "    # print(configuration)\n",
    "    configuration[\"aircraft_number\"] = aircraft_number\n",
    "#     configuration[\"configured_on\"] = str(datetime.datetime.now(tz=tz.tzlocal()).strftime(\"%Y-%m-%d %H:%M:%S\"))\n",
    "    ai_mp = MongoHelper().getCollection(AIRCRAFT_INSPECTIONS_COLLECTION)\n",
    "    an_mp = MongoHelper().getCollection(AIRCRAFT_NUMBER_COLLECTION)\n",
    "    del configuration[\"_id\"]\n",
    "    _id = ai_mp.insert_one(configuration)\n",
    "    print(_id)\n",
    "    myquery = { \"aircraft_number\": aircraft_number}\n",
    "    newvalues = { \"$set\": { \"status\": \"configured\" } }\n",
    "    _id_2 = an_mp.update_one(myquery, newvalues)\n",
    "    print(_id_2,\"updated!!\")"
   ]
  },
  {
   "cell_type": "code",
   "execution_count": null,
   "id": "145f4019",
   "metadata": {},
   "outputs": [],
   "source": [
    "add_new_aircraft_inspection_util(data = [])"
   ]
  },
  {
   "cell_type": "code",
   "execution_count": null,
   "id": "5b6dfb69",
   "metadata": {},
   "outputs": [],
   "source": [
    "aircraft_number = \"ACF004\"\n",
    "ai_mp = MongoHelper().getCollection(AIRCRAFT_INSPECTIONS_COLLECTION)\n",
    "aircraft_collection = ai_mp.find({\"aircraft_number\":aircraft_number})\n",
    "col = {}\n",
    "for entries in aircraft_collection:\n",
    "    col = entries"
   ]
  },
  {
   "cell_type": "code",
   "execution_count": null,
   "id": "21587881",
   "metadata": {},
   "outputs": [],
   "source": [
    "#level_1\n",
    "aircraft_number = \"ACF004\"\n",
    "ai_mp = MongoHelper().getCollection(AIRCRAFT_INSPECTIONS_COLLECTION)\n",
    "aircraft_collection = ai_mp.find({\"aircraft_number\":aircraft_number})\n",
    "col = {}\n",
    "level_one_keys = []\n",
    "level_two_keys = []\n",
    "level_three_keys = []\n",
    "level_four_keys = []\n",
    "level_five_keys = []\n",
    "\n",
    "for entries in aircraft_collection:\n",
    "    col = entries\n",
    "    level_one_keys = list(col[\"zone_level_1\"].keys())\n",
    "    col = col[\"zone_level_1\"]\n",
    "    print(level_one_keys)\n",
    "#     for cat in level_one_keys:\n",
    "#         level_two_keys =  list(col[\"zone_level_1\"][cat]['zone_level_2'].keys()) \n",
    "#         col = col[\"zone_level_2\"]\n",
    "#         for cat in level_two_keys:\n",
    "#             level_three_keys =  list(col[\"zone_level_1\"][cat]['zone_level_3'].keys()) \n",
    "            \n",
    "#             for cat in level_two_keys:\n",
    "#                 level_four_keys =  list(col[\"zone_level_1\"][cat]['zone_level_4'].keys()) \n",
    "        \n"
   ]
  },
  {
   "cell_type": "code",
   "execution_count": null,
   "id": "b07ef5aa",
   "metadata": {},
   "outputs": [],
   "source": [
    "col"
   ]
  },
  {
   "cell_type": "code",
   "execution_count": null,
   "id": "06672835",
   "metadata": {},
   "outputs": [],
   "source": [
    "level_one_keys "
   ]
  },
  {
   "cell_type": "code",
   "execution_count": null,
   "id": "4fa7a164",
   "metadata": {},
   "outputs": [],
   "source": [
    "level_two_keys"
   ]
  },
  {
   "cell_type": "code",
   "execution_count": null,
   "id": "fd00e73d",
   "metadata": {},
   "outputs": [],
   "source": [
    "level_three_keys"
   ]
  },
  {
   "cell_type": "code",
   "execution_count": null,
   "id": "d1060fd7",
   "metadata": {},
   "outputs": [],
   "source": [
    "level_four_keys"
   ]
  },
  {
   "cell_type": "code",
   "execution_count": null,
   "id": "51d296ce",
   "metadata": {},
   "outputs": [],
   "source": [
    "level_five_keys"
   ]
  },
  {
   "cell_type": "code",
   "execution_count": null,
   "id": "1c639d2d",
   "metadata": {},
   "outputs": [],
   "source": [
    "aircraft_collection = ai_mp.find({\"aircraft_number\":aircraft_number})\n",
    "keys=[]\n",
    "for ent in aircraft_collection:\n",
    "    pass\n",
    "for e in ent:\n",
    "    if type(ent[e]) == dict:\n",
    "        print(ent[e].keys())\n",
    "#         keys = list(ent[e].keys())\n",
    "        ent = ent[e]\n",
    "        for e in ent:\n",
    "            if type(ent[e]) == dict:\n",
    "                print(ent[e].keys())\n",
    "#                 keys = list(ent[e].keys())\n",
    "                ent = ent[e]\n",
    "                for e in ent:\n",
    "                    if type(ent[e]) == dict:\n",
    "                        print(ent[e].keys())\n",
    "                        keys = list(ent[e].keys())\n",
    "                        ent = ent[e]\n",
    "                        for e in ent:\n",
    "                            if type(ent[e]) == dict:\n",
    "                                print(ent[e].keys())\n",
    "                                keys = list(ent[e].keys())\n",
    "                                ent = ent[e]\n",
    "                                for e in ent:\n",
    "                                    if type(ent[e]) == dict:\n",
    "                                        print(ent[e].keys())\n",
    "                                        keys = list(ent[e].keys())\n",
    "                                        ent = ent[e]\n",
    "                                        for e in ent:\n",
    "                                            if type(ent[e]) == dict:\n",
    "                                                print(ent[e].keys())\n",
    "                                                keys = list(ent[e].keys())\n",
    "                                                ent = ent[e]\n",
    "                                                for e in ent:\n",
    "                                                    if type(ent[e]) == dict:\n",
    "                                                        print(ent[e].keys())\n",
    "                                                        keys = list(ent[e].keys())\n",
    "                                                        ent = ent[e]\n",
    "                                                        for e in ent:\n",
    "                                                            if type(ent[e]) == dict:\n",
    "                                                                print(ent[e].keys())\n",
    "                                                                keys = list(ent[e].keys())\n",
    "                                                                ent = ent[e]\n",
    "                                                                for e in ent:\n",
    "                                                                    if type(ent[e]) == dict:\n",
    "                                                                        print(ent[e].keys())\n",
    "                                                                        keys = list(ent[e].keys())\n",
    "                                                                        ent = ent[e]\n",
    "                                                                    for e in ent:\n",
    "                                                                        if type(ent[e]) == dict:\n",
    "                                                                            print(ent[e].keys())\n",
    "                                                                            keys = list(ent[e].keys())\n",
    "                                                                            ent = ent[e]                                                                        \n",
    "                                                                            for e in ent:\n",
    "                                                                                if type(ent[e]) == dict:\n",
    "                                                                                    print(ent[e].keys())\n",
    "                                                                                    keys = list(ent[e].keys())\n",
    "                                                                                    ent = ent[e]\n",
    "                                                                                    for e in ent:\n",
    "                                                                                        if type(ent[e]) == dict:\n",
    "                                                                                            print(ent[e].keys())\n",
    "                                                                                            keys = list(ent[e].keys())\n",
    "                                                                                            ent = ent[e]  \n",
    "                                                                            #         print(ent , e)\n",
    "#         for k in keys:\n",
    "#             if type(ent[k]) == dict:\n",
    "#                 print(ent[e].keys())\n",
    "#                 ent = e\n",
    "#                 for e in ent:\n",
    "#                     if type(ent[e]) == dict:\n",
    "#                         print(ent[e].keys())\n",
    "#                         ent = e\n",
    "#     for e in col\n",
    "    \n",
    "    \n",
    "# type(col)"
   ]
  },
  {
   "cell_type": "code",
   "execution_count": null,
   "id": "4f60e529",
   "metadata": {},
   "outputs": [],
   "source": [
    "aircraft_collection = ai_mp.find({\"aircraft_number\":aircraft_number})\n",
    "keys=[]\n",
    "for ent in aircraft_collection:\n",
    "    pass\n",
    "# for i in range(5):\n",
    "# #     print(i)\n",
    "# #     print(ent.keys())\n",
    "# #     ent = {e  for e in ent}\n",
    "#     for e in ent:\n",
    "# #         print(e)\n",
    "#         if type(ent[e]) == dict:\n",
    "#             ent = ent[e]\n",
    "# #         if type(ent[e]) == dict:\n",
    "# #             print(ent[e].keys())\n",
    "# #     #         keys = list(ent[e].keys())\n",
    "# #             ent = ent[e]"
   ]
  },
  {
   "cell_type": "code",
   "execution_count": null,
   "id": "e7eb32ac",
   "metadata": {},
   "outputs": [],
   "source": [
    "ent[\"zone_level_1\"][\"exterior\"][\"zone_level_2\"][\"center_fuselage\"][\"zone_level_3\"][\"rh\"][\"zone_level_4\"][\"arc_1\"][\"zone_level_5\"][\"Cell_1\"][\"zone_level_6\"][\"right_top_corner\"]"
   ]
  },
  {
   "cell_type": "code",
   "execution_count": null,
   "id": "32db146d",
   "metadata": {},
   "outputs": [],
   "source": [
    "level_one_keys = list(ent[\"zone_level_1\"].keys())\n",
    "level_two_keys = list(ent[\"zone_level_1\"][\"exterior\"][\"zone_level_2\"].keys())\n",
    "level_three_keys = list(ent[\"zone_level_1\"][\"exterior\"][\"zone_level_2\"][\"center_fuselage\"][\"zone_level_3\"].keys())\n",
    "level_four_keys = list(ent[\"zone_level_1\"][\"exterior\"][\"zone_level_2\"][\"center_fuselage\"][\"zone_level_3\"][\"rh\"][\"zone_level_4\"].keys())\n",
    "level_five_keys = list(ent[\"zone_level_1\"][\"exterior\"][\"zone_level_2\"][\"center_fuselage\"][\"zone_level_3\"][\"rh\"][\"zone_level_4\"][\"arc_1\"][\"zone_level_5\"].keys())\n",
    "level_six_keys = list(ent[\"zone_level_1\"][\"exterior\"][\"zone_level_2\"][\"center_fuselage\"][\"zone_level_3\"][\"rh\"][\"zone_level_4\"][\"arc_1\"][\"zone_level_5\"][\"Cell_1\"][\"zone_level_6\"].keys())"
   ]
  },
  {
   "cell_type": "code",
   "execution_count": null,
   "id": "794cd79e",
   "metadata": {},
   "outputs": [],
   "source": [
    "level_one_keys,level_two_keys,level_three_keys,level_four_keys,level_five_keys,level_six_keys"
   ]
  },
  {
   "cell_type": "code",
   "execution_count": null,
   "id": "81afbe88",
   "metadata": {},
   "outputs": [],
   "source": [
    "c = ent[\"zone_level_1\"][\"exterior\"][\"zone_level_2\"][\"center_fuselage\"][\"zone_level_3\"][\"rh\"][\"zone_level_4\"][\"arc_1\"][\"zone_level_5\"][\"Cell_1\"][\"zone_level_6\"]"
   ]
  },
  {
   "cell_type": "code",
   "execution_count": null,
   "id": "35ed7313",
   "metadata": {},
   "outputs": [],
   "source": [
    "aircraft_collection = ai_mp.find({\"aircraft_number\":aircraft_number})\n",
    "keys=[]\n",
    "for ent in aircraft_collection:\n",
    "    pass\n",
    "\n",
    "level_one = ent[\"zone_level_1\"]\n",
    "level_one_keys = list(ent[\"zone_level_1\"].keys())\n",
    "\n",
    "level_two = level_one[\"exterior\"][\"zone_level_2\"]\n",
    "level_two_keys = list(level_two.keys())\n",
    "\n",
    "level_three = level_two[\"center_fuselage\"][\"zone_level_3\"]\n",
    "level_three_keys = list(level_three.keys())\n",
    "\n",
    "level_four = level_three[\"rh\"][\"zone_level_4\"]\n",
    "level_four_keys = list(level_four.keys())\n",
    "\n",
    "level_five = level_four[\"arc_1\"][\"zone_level_5\"]\n",
    "level_five_keys = list(level_five.keys())\n",
    "\n",
    "level_six = level_five[\"Cell_1\"][\"zone_level_6\"]\n",
    "level_six_keys = list(level_six.keys())\n",
    "\n",
    "for s in level_six_keys:\n",
    "    print(level_six[s])"
   ]
  },
  {
   "cell_type": "code",
   "execution_count": null,
   "id": "061ec6ff",
   "metadata": {},
   "outputs": [],
   "source": [
    "aircraft_collection = ai_mp.find({\"aircraft_number\":aircraft_number})\n",
    "keys=[]\n",
    "for ent in aircraft_collection:\n",
    "    pass\n",
    "\n",
    "level_one = ent[\"zone_level_1\"]\n",
    "level_one_keys = list(ent[\"zone_level_1\"].keys())\n",
    "\n",
    "for k in level_one_keys:\n",
    "    print(\"\",k)\n",
    "    level_two = level_one[k][\"zone_level_2\"]\n",
    "    level_two_keys = list(level_two.keys())\n",
    "\n",
    "    for k in level_two_keys:\n",
    "        print(\"**\",k)\n",
    "        level_three = level_two[k][\"zone_level_3\"]\n",
    "        level_three_keys = list(level_three.keys())\n",
    "\n",
    "        for k in level_three_keys:\n",
    "            print(\"***\",k)\n",
    "            level_four = level_three[k][\"zone_level_4\"]\n",
    "            level_four_keys = list(level_four.keys())\n",
    "\n",
    "            for k in level_four_keys:\n",
    "                print(\"****\",k)\n",
    "                level_five = level_four[k][\"zone_level_5\"]\n",
    "                level_five_keys = list(level_five.keys())\n",
    "\n",
    "                for k in level_five_keys:\n",
    "                    print(\"*****\",k)\n",
    "                    level_six = level_five[k][\"zone_level_6\"]\n",
    "                    level_six_keys = list(level_six.keys())\n",
    "\n",
    "                    for k in level_six_keys:\n",
    "                        print(\"******\",k)\n",
    "                        "
   ]
  },
  {
   "cell_type": "code",
   "execution_count": null,
   "id": "0558e862",
   "metadata": {},
   "outputs": [],
   "source": [
    "aircraft_number = \"ACF004\"\n",
    "ai_mp = MongoHelper().getCollection(AIRCRAFT_INSPECTIONS_COLLECTION)\n",
    "aircraft_collection = ai_mp.find({\"aircraft_number\":aircraft_number})\n",
    "keys=[]\n",
    "for ent in aircraft_collection:\n",
    "    pass\n",
    "level = 6 ,\n",
    "# key ={\n",
    "#     level_1_key:\"exterior\",\n",
    "#      level_2_key:\"center_fuselage\",\n",
    "#      level_3_key:\"rh\",\n",
    "#      level_4_key:\"arc_1\",\n",
    "#      level_5_key:\"Cell_1\",\n",
    "#      level_6_key:\"right_top_corner\"\n",
    "#      }\n",
    "level_1_key =\"exterior\"\n",
    "level_2_key= \"center_fuselage\"\n",
    "level_3_key= \"rh\"\n",
    "level_4_key=\"arc_1\"\n",
    "level_5_key=\"Cell_1\"\n",
    "level_6_key=\"right_top_corner\"\n",
    "    \n",
    "    \n",
    "level_1 = ent[\"zone_level_1\"]\n",
    "level_1_keys = list(ent[\"zone_level_1\"].keys())\n",
    "# def get_key_list()\n",
    "# (['exterior', 'interior'],\n",
    "#  ['center_fuselage', 'doghouse'],\n",
    "#  ['rh', 'lh'],\n",
    "#  ['arc_1', 'arc_2'],\n",
    "#  ['Cell_1'],\n",
    "#  ['right_top_corner', 'right_bottom_corner', 'left_bottom_corner'])\n",
    "\n",
    "# for k in level_one_keys:\n",
    "#     print(\"\",k)\n",
    "level_2 = level_one[level_1_key][\"zone_level_2\"]\n",
    "level_2_keys = list(level_2.keys())\n",
    "\n",
    "#     for k in level_two_keys:\n",
    "#         print(\"**\",k)\n",
    "level_3 = level_two[level_2_key][\"zone_level_3\"]\n",
    "level_3_keys = list(level_3.keys())\n",
    "\n",
    "#         for k in level_three_keys:\n",
    "#             print(\"***\",k)\n",
    "level_4 = level_three[level_3_key][\"zone_level_4\"]\n",
    "level_4_keys = list(level_4.keys())\n",
    "\n",
    "#             for k in level_four_keys:\n",
    "#                 print(\"****\",k)\n",
    "level_5 = level_four[level_4_key][\"zone_level_5\"]\n",
    "level_5_keys = list(level_5.keys())\n",
    "\n",
    "#                 for k in level_five_keys:\n",
    "#                     print(\"*****\",k)\n",
    "level_6 = level_five[level_5_key][\"zone_level_6\"]\n",
    "level_6_keys = list(level_6.keys())\n",
    "\n",
    "level_7 = level_six[level_6_key]\n",
    "level_7_keys = list(level_7.keys())\n",
    "\n",
    "# for k in level_six_keys:\n",
    "#     print(\"******\",k)\n",
    "level_7"
   ]
  },
  {
   "cell_type": "code",
   "execution_count": null,
   "id": "6415ebe4",
   "metadata": {},
   "outputs": [],
   "source": [
    "# level_six"
   ]
  },
  {
   "cell_type": "code",
   "execution_count": null,
   "id": "88169fe3",
   "metadata": {},
   "outputs": [],
   "source": [
    "\n",
    "#Get sub zone keys\n",
    "level_1_key =\"exterior\"\n",
    "level_2_key= \"center_fuselage\"\n",
    "level_3_key= \"rh\"\n",
    "level_4_key=\"arc_1\"#\"arc_1\"\n",
    "level_5_key=\"Cell_1\"#\"Cell_1\"\n",
    "level_6_key=\"right_top_corner\"#\"right_top_corner\"\n",
    "level_7_key=None\n",
    "\n",
    "aircraft_number = \"ACF004\"\n",
    "ai_mp = MongoHelper().getCollection(AIRCRAFT_INSPECTIONS_COLLECTION)\n",
    "aircraft_collection = ai_mp.find({\"aircraft_number\":aircraft_number})\n",
    "\n",
    "for ent in aircraft_collection:\n",
    "    pass\n",
    "level_1 = ent[\"zone_level_1\"]\n",
    "level_1_keys = list(ent[\"zone_level_1\"].keys())\n",
    "\n",
    "\n",
    "\n",
    "\n",
    "# if bool(level_1_key):\n",
    "#     level_2 = level_1[level_1_key][\"zone_level_2\"]\n",
    "#     level_2_keys = list(level_2.keys())\n",
    "\n",
    "# if bool(level_2_key):\n",
    "#     level_3 = level_2[level_2_key][\"zone_level_3\"]\n",
    "#     level_3_keys = list(level_3.keys())\n",
    "\n",
    "# if bool(level_3_key):\n",
    "#     level_4 = level_3[level_3_key][\"zone_level_4\"]\n",
    "#     level_4_keys = list(level_4.keys())\n",
    "\n",
    "# if bool(level_4_key):\n",
    "#     level_5 = level_4[level_4_key][\"zone_level_5\"]\n",
    "#     level_5_keys = list(level_5.keys())\n",
    "\n",
    "# if bool(level_5_key):\n",
    "#     level_6 = level_5[level_5_key][\"zone_level_6\"]\n",
    "#     level_6_keys = list(level_6.keys())\n",
    "\n",
    "# if bool(level_6_key):\n",
    "#     try: \n",
    "#         level_7 = level_6[level_6_key][\"zone_level_6\"]\n",
    "#         level_7_keys = list(level_7.keys())\n",
    "#     except:\n",
    "#         level_7 = level_6\n",
    "\n",
    "# if bool(level_7_key):\n",
    "#     level_8 = level_7[level_7_key][\"zone_level_7\"]\n",
    "#     level_8_keys = list(level_8.keys())\n"
   ]
  },
  {
   "cell_type": "code",
   "execution_count": 2,
   "id": "d071f1a9",
   "metadata": {},
   "outputs": [
    {
     "name": "stdout",
     "output_type": "stream",
     "text": [
      "'zone_level_7'\n"
     ]
    }
   ],
   "source": [
    "\n",
    "#Get sub zone keys\n",
    "level_1_key =\"exterior\"\n",
    "level_2_key= \"center_fuselage\"\n",
    "level_3_key= \"rh\"\n",
    "level_4_key=\"arc_1\"#\"arc_1\"\n",
    "level_5_key=\"Cell_1\"#\"Cell_1\"\n",
    "level_6_key=\"right_top_corner\"#\"right_top_corner\"\n",
    "level_7_key=None\n",
    "num = 7\n",
    "aircraft_number = \"ACF004\"\n",
    "ai_mp = MongoHelper().getCollection(AIRCRAFT_INSPECTIONS_COLLECTION)\n",
    "aircraft_collection = ai_mp.find({\"aircraft_number\":aircraft_number})\n",
    "\n",
    "for ent in aircraft_collection:\n",
    "    pass\n",
    "\n",
    "level_1 = ent[\"zone_level_1\"]\n",
    "level_1_keys = list(ent[\"zone_level_1\"].keys())\n",
    "for i in range(1,num):   \n",
    "    if bool(level_1_key):\n",
    "        try:\n",
    "            exec(f'level_{i+1} = level_{i}[level_{i}_key][\"zone_level_{i+1}\"]')\n",
    "        except Exception as e:\n",
    "            print(e)\n",
    "            pass\n"
   ]
  },
  {
   "cell_type": "code",
   "execution_count": 3,
   "id": "10fb4fdc",
   "metadata": {},
   "outputs": [
    {
     "data": {
      "text/plain": [
       "dict_keys(['right_top_corner', 'right_bottom_corner', 'left_bottom_corner'])"
      ]
     },
     "execution_count": 3,
     "metadata": {},
     "output_type": "execute_result"
    }
   ],
   "source": [
    "# i = 0\n",
    "# #exec(f'{camera_name} = cap')\n",
    "# exec(f'level_{i}_key = 2')\n",
    "# level_0_key\n",
    "level_6.keys()"
   ]
  },
  {
   "cell_type": "code",
   "execution_count": 14,
   "id": "9ff4c47e",
   "metadata": {},
   "outputs": [
    {
     "data": {
      "text/plain": [
       "'not_started'"
      ]
     },
     "execution_count": 14,
     "metadata": {},
     "output_type": "execute_result"
    }
   ],
   "source": [
    "num = 5\n",
    "level = f\"level_{num}\"\n",
    "level = globals()[level]\n",
    "k = \"Cell_1\"\n",
    "data = level[k][\"status\"]\n",
    "data\n",
    "# keys = list(level.keys())\n",
    "# key = \n",
    "# for k in keys:\n",
    "#     if (type(level[k]) == dict )& ((level[k][\"status\"] == \"not_started\") or (level[k][\"status\"] == \"inprogress\")):\n",
    "        \n",
    "#         level[k][\"status\"] = \n",
    "#         print(level[k])"
   ]
  },
  {
   "cell_type": "code",
   "execution_count": 25,
   "id": "2a79de5f",
   "metadata": {},
   "outputs": [],
   "source": [
    "mp = MongoHelper().getCollection(\"ACF004\")"
   ]
  },
  {
   "cell_type": "code",
   "execution_count": 26,
   "id": "653bb819",
   "metadata": {},
   "outputs": [],
   "source": [
    "# mp.getSumOfFieldsDemo.aggregate([{\"TotalSum\": { \"$sum\": \"$total_number_of_images_captured\" } } ]);\n",
    "\n",
    "# agg_result = process_collection.aggregate([ {\"$match\":{\"$and\":query_1}},  \n",
    "#                                     { '$group': {\"_id\" : {\"shift_id\" : \"$shift._id\" , \n",
    "#                                                           \"operator_id\" : \"$user.user_id\" ,\n",
    "#                                                          },\n",
    "#                                             'total_accepted': {'$sum': \"$total_accepted_parts\"} ,\n",
    "#                                             'total_rejected': {'$sum': \"$total_rejected_parts\"} \n",
    "#                                     }}])"
   ]
  },
  {
   "cell_type": "code",
   "execution_count": 45,
   "id": "46e32bd2",
   "metadata": {},
   "outputs": [],
   "source": [
    "# a = mp.aggregate([ { \"total\": { \"$sum\": \"$total_number_of_images_captured\"}  } ] )\n",
    "a = mp.aggregate([{ \"$match\": {} },{ \"$group\": { \"_id\" : {}, \"sum\" : { \"$sum\":\"$total_number_of_images_captured\"}}}])"
   ]
  },
  {
   "cell_type": "code",
   "execution_count": 46,
   "id": "a6f1ab79",
   "metadata": {},
   "outputs": [
    {
     "name": "stdout",
     "output_type": "stream",
     "text": [
      "{'_id': {}, 'sum': 20}\n"
     ]
    }
   ],
   "source": [
    "for aa in a:\n",
    "    print(aa)"
   ]
  },
  {
   "cell_type": "code",
   "execution_count": 47,
   "id": "d498af05",
   "metadata": {},
   "outputs": [],
   "source": [
    "mp = MongoHelper().getCollection(\"ACF004\")"
   ]
  },
  {
   "cell_type": "code",
   "execution_count": null,
   "id": "aa680e82",
   "metadata": {},
   "outputs": [],
   "source": [
    "query_1 = {\"\"}\n",
    "mp.find({})"
   ]
  },
  {
   "cell_type": "code",
   "execution_count": null,
   "id": "58af78d4",
   "metadata": {},
   "outputs": [],
   "source": []
  }
 ],
 "metadata": {
  "kernelspec": {
   "display_name": "Python 3 (ipykernel)",
   "language": "python",
   "name": "python3"
  },
  "language_info": {
   "codemirror_mode": {
    "name": "ipython",
    "version": 3
   },
   "file_extension": ".py",
   "mimetype": "text/x-python",
   "name": "python",
   "nbconvert_exporter": "python",
   "pygments_lexer": "ipython3",
   "version": "3.9.7"
  }
 },
 "nbformat": 4,
 "nbformat_minor": 5
}
